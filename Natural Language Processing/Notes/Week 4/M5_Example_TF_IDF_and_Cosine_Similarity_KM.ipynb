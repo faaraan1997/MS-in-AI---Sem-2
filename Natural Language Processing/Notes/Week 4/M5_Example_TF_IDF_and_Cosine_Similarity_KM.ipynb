{
  "nbformat": 4,
  "nbformat_minor": 0,
  "metadata": {
    "colab": {
      "provenance": [],
      "machine_shape": "hm",
      "gpuType": "T4"
    },
    "kernelspec": {
      "name": "python3",
      "display_name": "Python 3"
    },
    "language_info": {
      "name": "python"
    },
    "accelerator": "GPU"
  },
  "cells": [
    {
      "cell_type": "markdown",
      "source": [
        "#1.0 Cosine Similarity\n",
        "\n",
        "Cosine similarity is a measure of similarity between two vectors in a multi-dimensional space. It calculates the cosine of the angle between the vectors, representing how closely they align with each other. Cosine similarity is commonly used in text mining and information retrieval tasks.\n",
        "\n",
        "Mathematically, cosine similarity is defined as:\n",
        "\n",
        "$$\n",
        "\\text{cosine_similarity}(A, B) = \\frac{{A \\cdot B}}{{\\|A\\| \\cdot \\|B\\|}}\n",
        "$$\n",
        "\n",
        "Where:\n",
        "- $A\\ and \\ B$ are vectors.\n",
        "- $A \\cdot B$ represents the dot product between vectors $A\\ and \\ B$ .\n",
        "- ${{\\|A\\| \\cdot \\|B\\|}}$represent the Euclidean norms (magnitudes) of vectors $A\\ and \\ B$ respectively.\n",
        "\n"
      ],
      "metadata": {
        "id": "CO9ha58va4GB"
      }
    },
    {
      "cell_type": "markdown",
      "source": [
        "\n",
        "## 1.1 Why is this important?\n",
        "\n",
        "Cosine similarity is an important metric for word representations because it allows us to quantify the similarity between two word vectors based on their orientation in the vector space. Here are a few reasons why cosine similarity is valuable for word representations:\n",
        "\n",
        "1. **Semantic Similarity:** Cosine similarity can capture the semantic similarity between words. Word vectors that are similar in meaning tend to have a higher cosine similarity score, indicating that they are closer in the vector space.\n",
        "\n",
        "2. **Word Analogies:** Cosine similarity can be used to solve word analogies. By performing vector arithmetic operations such as `king - man + woman`, we can find the word vector that is most similar to the resulting vector using cosine similarity. This enables capturing relationships like \"king is to man as queen is to woman.\"\n",
        "\n",
        "3. **Information Retrieval:** Cosine similarity is used in information retrieval tasks to rank and retrieve relevant documents based on their similarity to a given query. By representing documents and queries as vectors, cosine similarity can efficiently identify the most similar documents.\n",
        "\n",
        "4. **Clustering and Classification:** Cosine similarity is helpful in clustering and classification tasks, where we group similar words or classify documents based on their semantic similarity. By measuring the cosine similarity between word vectors or document vectors, we can identify clusters or make predictions based on their similarity.\n",
        "\n",
        "Overall, cosine similarity plays a crucial role in quantifying the similarity between word representations and enables various natural language processing tasks, including semantic analysis, information retrieval, and text classification.\n"
      ],
      "metadata": {
        "id": "132EX7Zuikae"
      }
    },
    {
      "cell_type": "markdown",
      "source": [
        "#2.0 Example with TF-IDF\n",
        "\n",
        "## TF-IDF (Term Frequency-Inverse Document Frequency)\n",
        "\n",
        "TF-IDF is a numerical statistic that reflects the importance of a term in a collection of documents. It is widely used to convert text documents into vectors, where each dimension corresponds to a unique term in the document collection.\n",
        "\n",
        "The TF-IDF value for a term in a document is calculated as the product of two components:\n",
        "\n",
        "1. Term Frequency (TF): Measures the frequency of a term in a document.\n",
        "\n",
        "  $\\text{TF}(\\text{term}, \\text{document}) = \\frac{\\text{Number of occurrences of term in document}}{\\text{Total number of terms in document}}$\n",
        "\n",
        "\n",
        "2. Inverse Document Frequency (IDF): Measures the rarity of a term across the entire document collection.\n",
        "\n",
        "   $\\text{IDF}(\\text{term}) = \\log\\left(\\frac{\\text{Total number of documents}}{\\text{Number of documents containing term}}\\right)$\n",
        "\n",
        "\n",
        "The TF-IDF vector represents the importance of each term in a document relative to the entire collection.\n",
        "\n",
        "## Cosine Similarity with TF-IDF\n",
        "\n",
        "When using TF-IDF, cosine similarity can be computed by following these steps:\n",
        "\n",
        "1. Convert the documents into TF-IDF vectors using a TF-IDF vectorizer.\n",
        "2. Compute the cosine similarity between the TF-IDF vectors of two documents using the cosine similarity formula.\n",
        "\n",
        "The TF-IDF approach takes into account both the term frequencies within a document and the inverse document frequencies to measure the similarity between two documents based on their content.\n",
        "\n"
      ],
      "metadata": {
        "id": "2Hw8GNeripsb"
      }
    },
    {
      "cell_type": "markdown",
      "source": [
        "## 2.1 An example is provided below"
      ],
      "metadata": {
        "id": "UtOXkFFLi1Hu"
      }
    },
    {
      "cell_type": "code",
      "source": [
        "import matplotlib.pyplot as plt\n",
        "from sklearn.feature_extraction.text import TfidfVectorizer\n",
        "from sklearn.metrics.pairwise import cosine_similarity\n",
        "\n",
        "# Sample documents\n",
        "documents = [\n",
        "    \"I love coding with Python\",\n",
        "    \"Python is a great programming language\",\n",
        "    \"Coding is fun\"\n",
        "]\n",
        "\n",
        "# Create a TF-IDF vectorizer\n",
        "vectorizer = TfidfVectorizer()\n",
        "\n",
        "# Fit and transform the documents\n",
        "tfidf_matrix = vectorizer.fit_transform(documents)\n",
        "\n",
        "# Compute the cosine similarity for each pair of documents\n",
        "cosine_similarities = []\n",
        "for i in range(len(documents)):\n",
        "    for j in range(i + 1, len(documents)):\n",
        "        cosine_similarity_score = cosine_similarity(tfidf_matrix[i], tfidf_matrix[j])\n",
        "        cosine_similarities.append(cosine_similarity_score[0][0])\n",
        "\n",
        "# Generate time points for plotting\n",
        "time_points = [f\"Doc {i+1}-{j+2}\" for i in range(len(documents)-1) for j in range(i, len(documents)-1)]\n",
        "\n",
        "# Plot the cosine similarity distances over time\n",
        "plt.plot(time_points, cosine_similarities, marker='o')\n",
        "plt.xlabel('Time')\n",
        "plt.ylabel('Cosine Similarity')\n",
        "plt.title('Cosine Similarity Distances using TF-IDF')\n",
        "plt.show()\n"
      ],
      "metadata": {
        "colab": {
          "base_uri": "https://localhost:8080/",
          "height": 472
        },
        "id": "R_wv6ritaK0A",
        "outputId": "d016a603-a9e9-4641-a100-93c392dbfdeb"
      },
      "execution_count": null,
      "outputs": [
        {
          "output_type": "display_data",
          "data": {
            "text/plain": [
              "<Figure size 640x480 with 1 Axes>"
            ],
            "image/png": "[encoded data removed]"
          },
          "metadata": {}
        }
      ]
    },
    {
      "cell_type": "code",
      "source": [
        "from sklearn.feature_extraction.text import TfidfVectorizer\n",
        "from sklearn.metrics.pairwise import cosine_similarity\n",
        "\n",
        "# Sample documents\n",
        "documents = [\n",
        "    \"I love coding with Python\",\n",
        "    \"Python is a great programming language\",\n",
        "    \"Coding is fun\"\n",
        "]\n",
        "\n",
        "# Create a TF-IDF vectorizer\n",
        "vectorizer = TfidfVectorizer()\n",
        "\n",
        "# Fit and transform the documents\n",
        "tfidf_matrix = vectorizer.fit_transform(documents)\n",
        "\n",
        "# Compute the cosine similarity for each pair of documents\n",
        "cosine_similarities = []\n",
        "for i in range(len(documents)):\n",
        "    for j in range(i + 1, len(documents)):\n",
        "        doc1 = documents[i]\n",
        "        doc2 = documents[j]\n",
        "\n",
        "        # Get the TF-IDF vectors for the two documents\n",
        "        vector1 = tfidf_matrix[i]\n",
        "        vector2 = tfidf_matrix[j]\n",
        "\n",
        "        # Compute the cosine similarity\n",
        "        cosine_similarity_score = cosine_similarity(vector1, vector2)\n",
        "\n",
        "        # Store the cosine similarity and document pair\n",
        "        cosine_similarities.append({\n",
        "            'Documents': f'Doc {i+1} vs Doc {j+1}',\n",
        "            'Cosine Similarity': cosine_similarity_score[0][0]\n",
        "        })\n",
        "\n",
        "# Print the breakdown of cosine similarity calculation\n",
        "for sim in cosine_similarities:\n",
        "    print(sim)\n"
      ],
      "metadata": {
        "colab": {
          "base_uri": "https://localhost:8080/"
        },
        "id": "a-b8Zzbcai2e",
        "outputId": "a9b00036-439f-4497-e7d2-7d3c0d8802c3"
      },
      "execution_count": null,
      "outputs": [
        {
          "output_type": "stream",
          "name": "stdout",
          "text": [
            "{'Documents': 'Doc 1 vs Doc 2', 'Cosine Similarity': 0.15967058203849993}\n",
            "{'Documents': 'Doc 1 vs Doc 3', 'Cosine Similarity': 0.22166625725876862}\n",
            "{'Documents': 'Doc 2 vs Doc 3', 'Cosine Similarity': 0.19317171684232654}\n"
          ]
        }
      ]
    },
    {
      "cell_type": "markdown",
      "source": [
        "# 3.0 References\n",
        "1. Jurafsky, D., & Martin, J. H. (2019). Speech and Language Processing (3rd edition). Pearson Education.\n"
      ],
      "metadata": {
        "id": "m35dHYF2i5P8"
      }
    }
  ]
}