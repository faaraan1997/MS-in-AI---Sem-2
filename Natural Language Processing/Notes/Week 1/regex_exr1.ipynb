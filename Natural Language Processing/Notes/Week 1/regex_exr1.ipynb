{
 "cells": [
  {
   "cell_type": "code",
   "execution_count": 16,
   "id": "e4dca12e-3a8a-4299-bf6d-38750a5a7beb",
   "metadata": {},
   "outputs": [
    {
     "data": {
      "text/plain": [
       "<re.Match object; span=(0, 17), match='The rain in Spain'>"
      ]
     },
     "execution_count": 16,
     "metadata": {},
     "output_type": "execute_result"
    }
   ],
   "source": [
    "import re\n",
    "\n",
    "txt = \"The rain in Spain\"\n",
    "x = re.search(\"^The.*Spain$\", txt)\n",
    "x"
   ]
  },
  {
   "cell_type": "code",
   "execution_count": 17,
   "id": "9ed7a1d7",
   "metadata": {},
   "outputs": [
    {
     "data": {
      "text/plain": [
       "'The rain in Spain'"
      ]
     },
     "execution_count": 17,
     "metadata": {},
     "output_type": "execute_result"
    }
   ],
   "source": [
    "x.group()"
   ]
  },
  {
   "cell_type": "code",
   "execution_count": 3,
   "id": "c60d5b3f-1e2c-42bc-8595-4497e371c51f",
   "metadata": {},
   "outputs": [
    {
     "name": "stdout",
     "output_type": "stream",
     "text": [
      "['h', 'e', 'l', 'l', 'o', 'h', 'i', 'o', 'w', 'd', 'y']\n"
     ]
    }
   ],
   "source": [
    "string = 'hello 12 hi 89. Howdy 34'\n",
    "pattern = '[a-z]'\n",
    "\n",
    "result = re.findall(pattern, string) \n",
    "print(result)"
   ]
  },
  {
   "cell_type": "code",
   "execution_count": 21,
   "id": "b22774a9-5b53-4e21-aa4a-88c87e0da28a",
   "metadata": {},
   "outputs": [
    {
     "name": "stdout",
     "output_type": "stream",
     "text": [
      "801 35\n"
     ]
    }
   ],
   "source": [
    "string = '39801 356, 2102 1111'\n",
    "\n",
    "# Three digit number followed by space followed by two digit number\n",
    "pattern = '(\\d{3}) (\\d{2})'\n",
    "\n",
    "# match variable contains a Match object.\n",
    "match = re.search(pattern, string) \n",
    "\n",
    "if match:\n",
    "  print(match.group())\n",
    "else:\n",
    "  print(\"pattern not found\")\n",
    "\n",
    "# Output: 801 35\n"
   ]
  },
  {
   "cell_type": "code",
   "execution_count": 20,
   "id": "5f9e454f",
   "metadata": {},
   "outputs": [
    {
     "data": {
      "text/plain": [
       "[('102', '11'), ('801', '35')]"
      ]
     },
     "execution_count": 20,
     "metadata": {},
     "output_type": "execute_result"
    }
   ],
   "source": [
    "string = '2102 1111, 39801 356'\n",
    "pattern = '(\\d{3}) (\\d{2})'\n",
    "match = re.findall(pattern,string)\n",
    "match"
   ]
  },
  {
   "cell_type": "code",
   "execution_count": 15,
   "id": "fc1bb4ac-3351-40de-92f7-6bdc7d39bfa1",
   "metadata": {},
   "outputs": [
    {
     "name": "stdout",
     "output_type": "stream",
     "text": [
      "the <35> boxes\n"
     ]
    }
   ],
   "source": [
    "import re\n",
    "\n",
    "# Sample text\n",
    "text = \"the 35 boxes\"\n",
    "\n",
    "# Regular expression pattern to match numbers\n",
    "pattern = r\"(\\d+)\"\n",
    "\n",
    "# Replacement pattern to surround numbers with angle brackets\n",
    "new_pattern = r\"<\\1>\"\n",
    "\n",
    "# Substitute the pattern in the text with the replacement pattern\n",
    "modified_text = re.sub(pattern, new_pattern, text)\n",
    "\n",
    "print(modified_text)"
   ]
  },
  {
   "cell_type": "code",
   "execution_count": 23,
   "id": "5c9f5432-2d8f-4d7f-8c7f-00d1ba3d98f8",
   "metadata": {},
   "outputs": [
    {
     "name": "stdout",
     "output_type": "stream",
     "text": [
      "Match found: the faster they ran, the faster we ran\n",
      "No match found the faster they ran, the faster we ate\n"
     ]
    }
   ],
   "source": [
    "import re\n",
    "\n",
    "# The two text\n",
    "text1 = \"the faster they ran, the faster we ran\"\n",
    "text2 = \"the faster they ran, the faster we ate\"\n",
    "\n",
    "# Regular expression pattern to match the specified structure\n",
    "pattern = r\"the (.*) they (.*), the \\1 we \\2\"\n",
    "\n",
    "# Function to check if both parts of the sentence match\n",
    "def check_match(text):\n",
    "    if re.match(pattern, text):\n",
    "        print(\"Match found:\", text)\n",
    "    else:\n",
    "        print(\"No match found\",text)\n",
    "\n",
    "check_match(text1)\n",
    "check_match(text2)"
   ]
  },
  {
   "cell_type": "code",
   "execution_count": null,
   "id": "3d6b3b30-7d9b-4ca1-bf01-afd124438cff",
   "metadata": {},
   "outputs": [],
   "source": []
  },
  {
   "cell_type": "code",
   "execution_count": null,
   "id": "753b4783-aa18-4c24-b7f8-9244bb12124e",
   "metadata": {},
   "outputs": [],
   "source": []
  }
 ],
 "metadata": {
  "kernelspec": {
   "display_name": "Python 3 (ipykernel)",
   "language": "python",
   "name": "python3"
  },
  "language_info": {
   "codemirror_mode": {
    "name": "ipython",
    "version": 3
   },
   "file_extension": ".py",
   "mimetype": "text/x-python",
   "name": "python",
   "nbconvert_exporter": "python",
   "pygments_lexer": "ipython3",
   "version": "3.11.5"
  }
 },
 "nbformat": 4,
 "nbformat_minor": 5
}
