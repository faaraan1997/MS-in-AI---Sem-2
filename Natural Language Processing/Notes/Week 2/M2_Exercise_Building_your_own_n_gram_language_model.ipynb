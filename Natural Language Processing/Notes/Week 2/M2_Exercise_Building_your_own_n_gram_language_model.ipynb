{
  "cells": [
    {
      "cell_type": "markdown",
      "metadata": {
        "colab_type": "text",
        "id": "view-in-github"
      },
      "source": [
        "<a href=\"https://colab.research.google.com/github/Natural-Language-Processing-YU/Exercises/blob/main/Exercise_Building_your_own_n_gram_language_model.ipynb\" target=\"_parent\"><img src=\"https://colab.research.google.com/assets/colab-badge.svg\" alt=\"Open In Colab\"/></a>"
      ]
    },
    {
      "cell_type": "markdown",
      "metadata": {
        "id": "y3LpbJEc_0-y"
      },
      "source": [
        "#Exercise: Building your own n-gram language model\n",
        "\n",
        "Objective:\n",
        "The objective of this exercise is to give students hands-on experience in creating a language model using n-grams and generating new sentences based on the model. Students will work through the steps of preprocessing the text, generating n-grams, creating a vocabulary, constructing the language model, and generating sentences.\n"
      ]
    },
    {
      "cell_type": "code",
      "execution_count": 1,
      "metadata": {
        "id": "MExRUA8RADAq"
      },
      "outputs": [],
      "source": [
        "import random\n",
        "import nltk\n",
        "from nltk.util import ngrams\n",
        "from nltk.lm.preprocessing import pad_both_ends\n",
        "from nltk.lm import MLE"
      ]
    },
    {
      "cell_type": "markdown",
      "metadata": {
        "id": "I7k5a_z2_6_S"
      },
      "source": [
        "## Step 1. Preprocessing: Provide a small corpus of sentences and tokenize the text using NLTK's word_tokenize function."
      ]
    },
    {
      "cell_type": "code",
      "execution_count": 2,
      "metadata": {
        "id": "jjF1kxp3AGi6"
      },
      "outputs": [],
      "source": [
        "# Step 1: Preprocessing\n",
        "corpus = [\n",
        "    \"I love to eat pizza.\",\n",
        "    \"I love to play soccer.\",\n",
        "    \"I love to read books.\",\n",
        "     \"I love to create algorithms.\",\n",
        "]\n",
        "\n",
        "# Tokenize the text\n",
        "tokenized_corpus = [nltk.word_tokenize(sentence.lower()) for sentence in corpus]\n"
      ]
    },
    {
      "cell_type": "markdown",
      "metadata": {
        "id": "MHx06FX5AKer"
      },
      "source": [
        "## Step 2: N-gram Generation\n"
      ]
    },
    {
      "cell_type": "code",
      "execution_count": 3,
      "metadata": {
        "id": "AlFRFpo9AKHS"
      },
      "outputs": [],
      "source": [
        "# Step 2: N-gram Generation\n",
        "n = 3  # Trigrams\n",
        "\n",
        "# Pad the sequences\n",
        "padded_corpus = [list(pad_both_ends(sentence, n=n)) for sentence in tokenized_corpus]\n",
        "\n",
        "# Flatten the corpus into n-grams\n",
        "ngrams_list = [ngrams(sentence, n) for sentence in padded_corpus]\n",
        "flattened_ngrams = [ngram for sublist in ngrams_list for ngram in sublist]\n"
      ]
    },
    {
      "cell_type": "markdown",
      "metadata": {
        "id": "_RWgUtvOAQV7"
      },
      "source": [
        "## Step 3: Vocabulary Creation\n"
      ]
    },
    {
      "cell_type": "code",
      "execution_count": 4,
      "metadata": {
        "id": "miOFhTTpAUIc"
      },
      "outputs": [],
      "source": [
        "# Step 3: Vocabulary Creation\n",
        "vocab = set(flattened_ngrams)"
      ]
    },
    {
      "cell_type": "markdown",
      "metadata": {
        "id": "KpeYLOA8AV6E"
      },
      "source": [
        "## Step 4: Language Model Construction\n"
      ]
    },
    {
      "cell_type": "code",
      "execution_count": 5,
      "metadata": {
        "id": "mP6QvuXZAXW9"
      },
      "outputs": [
        {
          "ename": "ValueError",
          "evalue": "Cannot fit without a vocabulary or text to create it from.",
          "output_type": "error",
          "traceback": [
            "\u001b[1;31m---------------------------------------------------------------------------\u001b[0m",
            "\u001b[1;31mValueError\u001b[0m                                Traceback (most recent call last)",
            "Cell \u001b[1;32mIn[5], line 3\u001b[0m\n\u001b[0;32m      1\u001b[0m \u001b[38;5;66;03m# Step 4: Language Model Construction\u001b[39;00m\n\u001b[0;32m      2\u001b[0m model \u001b[38;5;241m=\u001b[39m MLE(n)\n\u001b[1;32m----> 3\u001b[0m model\u001b[38;5;241m.\u001b[39mfit(flattened_ngrams)\n",
            "File \u001b[1;32mc:\\Users\\Dell\\anaconda3\\Lib\\site-packages\\nltk\\lm\\api.py:112\u001b[0m, in \u001b[0;36mLanguageModel.fit\u001b[1;34m(self, text, vocabulary_text)\u001b[0m\n\u001b[0;32m    110\u001b[0m \u001b[38;5;28;01mif\u001b[39;00m \u001b[38;5;129;01mnot\u001b[39;00m \u001b[38;5;28mself\u001b[39m\u001b[38;5;241m.\u001b[39mvocab:\n\u001b[0;32m    111\u001b[0m     \u001b[38;5;28;01mif\u001b[39;00m vocabulary_text \u001b[38;5;129;01mis\u001b[39;00m \u001b[38;5;28;01mNone\u001b[39;00m:\n\u001b[1;32m--> 112\u001b[0m         \u001b[38;5;28;01mraise\u001b[39;00m \u001b[38;5;167;01mValueError\u001b[39;00m(\n\u001b[0;32m    113\u001b[0m             \u001b[38;5;124m\"\u001b[39m\u001b[38;5;124mCannot fit without a vocabulary or text to create it from.\u001b[39m\u001b[38;5;124m\"\u001b[39m\n\u001b[0;32m    114\u001b[0m         )\n\u001b[0;32m    115\u001b[0m     \u001b[38;5;28mself\u001b[39m\u001b[38;5;241m.\u001b[39mvocab\u001b[38;5;241m.\u001b[39mupdate(vocabulary_text)\n\u001b[0;32m    116\u001b[0m \u001b[38;5;28mself\u001b[39m\u001b[38;5;241m.\u001b[39mcounts\u001b[38;5;241m.\u001b[39mupdate(\u001b[38;5;28mself\u001b[39m\u001b[38;5;241m.\u001b[39mvocab\u001b[38;5;241m.\u001b[39mlookup(sent) \u001b[38;5;28;01mfor\u001b[39;00m sent \u001b[38;5;129;01min\u001b[39;00m text)\n",
            "\u001b[1;31mValueError\u001b[0m: Cannot fit without a vocabulary or text to create it from."
          ]
        }
      ],
      "source": [
        "# Step 4: Language Model Construction\n",
        "model = MLE(n)\n",
        "model.fit(flattened_ngrams)"
      ]
    },
    {
      "cell_type": "markdown",
      "metadata": {
        "id": "lHJsX1t8AY9c"
      },
      "source": [
        "## Step 5: Generate Text"
      ]
    },
    {
      "cell_type": "code",
      "execution_count": null,
      "metadata": {
        "id": "4lhHlCEk_5Oz"
      },
      "outputs": [
        {
          "ename": "TypeError",
          "evalue": "LanguageModel.generate() got an unexpected keyword argument 'context'",
          "output_type": "error",
          "traceback": [
            "\u001b[1;31m---------------------------------------------------------------------------\u001b[0m",
            "\u001b[1;31mTypeError\u001b[0m                                 Traceback (most recent call last)",
            "Cell \u001b[1;32mIn[8], line 11\u001b[0m\n\u001b[0;32m      9\u001b[0m generated_sentence \u001b[38;5;241m=\u001b[39m prefix\n\u001b[0;32m     10\u001b[0m \u001b[38;5;28;01mwhile\u001b[39;00m \u001b[38;5;28mlen\u001b[39m(generated_sentence) \u001b[38;5;241m<\u001b[39m max_length:\n\u001b[1;32m---> 11\u001b[0m     token \u001b[38;5;241m=\u001b[39m model\u001b[38;5;241m.\u001b[39mgenerate(\u001b[38;5;241m1\u001b[39m, context\u001b[38;5;241m=\u001b[39mcontext)[\u001b[38;5;241m-\u001b[39m\u001b[38;5;241m1\u001b[39m]\n\u001b[0;32m     12\u001b[0m     \u001b[38;5;28;01mif\u001b[39;00m token \u001b[38;5;241m==\u001b[39m \u001b[38;5;124m\"\u001b[39m\u001b[38;5;124m</s>\u001b[39m\u001b[38;5;124m\"\u001b[39m:\n\u001b[0;32m     13\u001b[0m         \u001b[38;5;28;01mbreak\u001b[39;00m\n",
            "\u001b[1;31mTypeError\u001b[0m: LanguageModel.generate() got an unexpected keyword argument 'context'"
          ]
        }
      ],
      "source": [
        "\n",
        "# Step 5: Sentence Generation\n",
        "max_length = 10  # Maximum number of words in the generated sentence\n",
        "\n",
        "# Set an initial context\n",
        "context = random.choice(list(vocab))\n",
        "prefix = context[:n-1]\n",
        "\n",
        "# Generate new sentences\n",
        "generated_sentence = prefix\n",
        "while len(generated_sentence) < max_length:\n",
        "    token = model.generate(1, context=context)[-1]\n",
        "    if token == \"</s>\":\n",
        "        break\n",
        "    generated_sentence += \" \" + token\n",
        "    prefix = tuple(generated_sentence.split()[-(n - 1):])\n",
        "    context = prefix + (token,)\n",
        "\n",
        "print(\"Generated Sentence:\", generated_sentence)\n"
      ]
    }
  ],
  "metadata": {
    "colab": {
      "authorship_tag": "ABX9TyMTpnl8kt1qoCykdflkf3cV",
      "include_colab_link": true,
      "provenance": []
    },
    "kernelspec": {
      "display_name": "Python 3",
      "name": "python3"
    },
    "language_info": {
      "codemirror_mode": {
        "name": "ipython",
        "version": 3
      },
      "file_extension": ".py",
      "mimetype": "text/x-python",
      "name": "python",
      "nbconvert_exporter": "python",
      "pygments_lexer": "ipython3",
      "version": "3.11.5"
    }
  },
  "nbformat": 4,
  "nbformat_minor": 0
}
