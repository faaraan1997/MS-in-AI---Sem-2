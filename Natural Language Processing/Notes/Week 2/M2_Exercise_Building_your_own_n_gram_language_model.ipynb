{
  "cells": [
    {
      "cell_type": "markdown",
      "metadata": {
        "colab_type": "text",
        "id": "view-in-github"
      },
      "source": [
        "<a href=\"https://colab.research.google.com/github/Natural-Language-Processing-YU/Exercises/blob/main/Exercise_Building_your_own_n_gram_language_model.ipynb\" target=\"_parent\"><img src=\"https://colab.research.google.com/assets/colab-badge.svg\" alt=\"Open In Colab\"/></a>"
      ]
    },
    {
      "cell_type": "markdown",
      "metadata": {
        "id": "y3LpbJEc_0-y"
      },
      "source": [
        "#Exercise: Building your own n-gram language model\n",
        "\n",
        "Objective:\n",
        "The objective of this exercise is to give students hands-on experience in creating a language model using n-grams and generating new sentences based on the model. Students will work through the steps of preprocessing the text, generating n-grams, creating a vocabulary, constructing the language model, and generating sentences.\n"
      ]
    },
    {
      "cell_type": "code",
      "execution_count": 1,
      "metadata": {
        "id": "MExRUA8RADAq"
      },
      "outputs": [],
      "source": [
        "import random\n",
        "import nltk\n",
        "from nltk.util import ngrams\n",
        "from nltk.lm.preprocessing import pad_both_ends\n",
        "from nltk.lm import MLE\n",
        "from nltk.lm.preprocessing import pad_both_ends, padded_everygram_pipeline\n"
      ]
    },
    {
      "cell_type": "markdown",
      "metadata": {
        "id": "I7k5a_z2_6_S"
      },
      "source": [
        "## Step 1. Preprocessing: Provide a small corpus of sentences and tokenize the text using NLTK's word_tokenize function."
      ]
    },
    {
      "cell_type": "code",
      "execution_count": 2,
      "metadata": {
        "id": "jjF1kxp3AGi6"
      },
      "outputs": [
        {
          "data": {
            "text/plain": [
              "[['i', 'love', 'to', 'eat', 'pizza', '.'],\n",
              " ['i', 'love', 'to', 'play', 'soccer', '.'],\n",
              " ['i', 'love', 'to', 'read', 'books', '.'],\n",
              " ['i', 'love', 'to', 'create', 'algorithms', '.']]"
            ]
          },
          "execution_count": 2,
          "metadata": {},
          "output_type": "execute_result"
        }
      ],
      "source": [
        "# Step 1: Preprocessing\n",
        "corpus = [\n",
        "    \"I love to eat pizza.\",\n",
        "    \"I love to play soccer.\",\n",
        "    \"I love to read books.\",\n",
        "     \"I love to create algorithms.\",\n",
        "]\n",
        "\n",
        "# Tokenize the text\n",
        "tokenized_corpus = [nltk.word_tokenize(sentence.lower()) for sentence in corpus]\n",
        "tokenized_corpus\n"
      ]
    },
    {
      "cell_type": "markdown",
      "metadata": {
        "id": "MHx06FX5AKer"
      },
      "source": [
        "## Step 2: N-gram Generation\n"
      ]
    },
    {
      "cell_type": "code",
      "execution_count": 3,
      "metadata": {
        "id": "AlFRFpo9AKHS"
      },
      "outputs": [],
      "source": [
        "# Step 2: N-gram Generation\n",
        "n = 3  # Trigrams\n",
        "\n",
        "# Pad the sequences\n",
        "padded_corpus = [list(pad_both_ends(sentence, n=n)) for sentence in tokenized_corpus]\n",
        "\n",
        "# Flatten the corpus into n-grams\n",
        "ngrams_list = [ngrams(sentence, n) for sentence in padded_corpus]\n",
        "flattened_ngrams = [ngram for sublist in ngrams_list for ngram in sublist]\n"
      ]
    },
    {
      "cell_type": "markdown",
      "metadata": {
        "id": "_RWgUtvOAQV7"
      },
      "source": [
        "## Step 3: Vocabulary Creation\n"
      ]
    },
    {
      "cell_type": "code",
      "execution_count": 4,
      "metadata": {
        "id": "miOFhTTpAUIc"
      },
      "outputs": [],
      "source": [
        "# Step 3: Vocabulary Creation\n",
        "vocab = set(flattened_ngrams)\n",
        "train_data, padded_sents = padded_everygram_pipeline(n,tokenized_corpus)\n"
      ]
    },
    {
      "cell_type": "markdown",
      "metadata": {
        "id": "KpeYLOA8AV6E"
      },
      "source": [
        "## Step 4: Language Model Construction\n"
      ]
    },
    {
      "cell_type": "code",
      "execution_count": 5,
      "metadata": {
        "id": "mP6QvuXZAXW9"
      },
      "outputs": [],
      "source": [
        "# Step 4: Language Model Construction\n",
        "model = MLE(n)\n",
        "model.fit(train_data,padded_sents)"
      ]
    },
    {
      "cell_type": "markdown",
      "metadata": {
        "id": "lHJsX1t8AY9c"
      },
      "source": [
        "## Step 5: Generate Text"
      ]
    },
    {
      "cell_type": "code",
      "execution_count": 6,
      "metadata": {
        "id": "4lhHlCEk_5Oz"
      },
      "outputs": [
        {
          "name": "stdout",
          "output_type": "stream",
          "text": [
            "Generated Sentence: loveto s r\n"
          ]
        }
      ],
      "source": [
        "\n",
        "# Step 5: Sentence Generation\n",
        "max_length = 10  # Maximum number of words in the generated sentence\n",
        "\n",
        "# Set an initial context\n",
        "context = random.choice(list(vocab))\n",
        "prefix = context[:n-1]\n",
        "\n",
        "# Generate new sentences\n",
        "generated_sentence = \"\".join(prefix)\n",
        "\n",
        "while len(generated_sentence) < max_length:\n",
        "    token = model.generate(1, context)[-1]\n",
        "\n",
        "    if token == \"</s>\":\n",
        "        break\n",
        "    generated_sentence += \" \" + token\n",
        "    prefix = tuple(generated_sentence.split()[-(n - 1):])\n",
        "    context = prefix + (token,)\n",
        "\n",
        "print(\"Generated Sentence:\", generated_sentence)\n"
      ]
    }
  ],
  "metadata": {
    "colab": {
      "authorship_tag": "ABX9TyMTpnl8kt1qoCykdflkf3cV",
      "include_colab_link": true,
      "provenance": []
    },
    "kernelspec": {
      "display_name": "Python 3",
      "name": "python3"
    },
    "language_info": {
      "codemirror_mode": {
        "name": "ipython",
        "version": 3
      },
      "file_extension": ".py",
      "mimetype": "text/x-python",
      "name": "python",
      "nbconvert_exporter": "python",
      "pygments_lexer": "ipython3",
      "version": "3.11.5"
    }
  },
  "nbformat": 4,
  "nbformat_minor": 0
}
