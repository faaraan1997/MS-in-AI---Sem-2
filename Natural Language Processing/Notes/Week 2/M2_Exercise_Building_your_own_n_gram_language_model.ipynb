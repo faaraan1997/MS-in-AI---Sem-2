{
  "nbformat": 4,
  "nbformat_minor": 0,
  "metadata": {
    "colab": {
      "provenance": [],
      "authorship_tag": "ABX9TyMTpnl8kt1qoCykdflkf3cV",
      "include_colab_link": true
    },
    "kernelspec": {
      "name": "python3",
      "display_name": "Python 3"
    },
    "language_info": {
      "name": "python"
    }
  },
  "cells": [
    {
      "cell_type": "markdown",
      "metadata": {
        "id": "view-in-github",
        "colab_type": "text"
      },
      "source": [
        "<a href=\"https://colab.research.google.com/github/Natural-Language-Processing-YU/Exercises/blob/main/Exercise_Building_your_own_n_gram_language_model.ipynb\" target=\"_parent\"><img src=\"https://colab.research.google.com/assets/colab-badge.svg\" alt=\"Open In Colab\"/></a>"
      ]
    },
    {
      "cell_type": "markdown",
      "source": [
        "#Exercise: Building your own n-gram language model\n",
        "\n",
        "Objective:\n",
        "The objective of this exercise is to give students hands-on experience in creating a language model using n-grams and generating new sentences based on the model. Students will work through the steps of preprocessing the text, generating n-grams, creating a vocabulary, constructing the language model, and generating sentences.\n"
      ],
      "metadata": {
        "id": "y3LpbJEc_0-y"
      }
    },
    {
      "cell_type": "code",
      "source": [
        "import random\n",
        "import nltk\n",
        "from nltk.util import ngrams\n",
        "from nltk.lm.preprocessing import pad_both_ends\n",
        "from nltk.lm import MLE"
      ],
      "metadata": {
        "id": "MExRUA8RADAq"
      },
      "execution_count": null,
      "outputs": []
    },
    {
      "cell_type": "markdown",
      "source": [
        "## Step 1. Preprocessing: Provide a small corpus of sentences and tokenize the text using NLTK's word_tokenize function."
      ],
      "metadata": {
        "id": "I7k5a_z2_6_S"
      }
    },
    {
      "cell_type": "code",
      "source": [
        "# Step 1: Preprocessing\n",
        "corpus = [\n",
        "    \"I love to eat pizza.\",\n",
        "    \"I love to play soccer.\",\n",
        "    \"I love to read books.\",\n",
        "     \"I love to create algorithms.\",\n",
        "]\n",
        "\n",
        "# Tokenize the text\n",
        "tokenized_corpus = [nltk.word_tokenize(sentence.lower()) for sentence in corpus]"
      ],
      "metadata": {
        "id": "jjF1kxp3AGi6"
      },
      "execution_count": null,
      "outputs": []
    },
    {
      "cell_type": "markdown",
      "source": [
        "## Step 2: N-gram Generation\n"
      ],
      "metadata": {
        "id": "MHx06FX5AKer"
      }
    },
    {
      "cell_type": "code",
      "source": [
        "# Step 2: N-gram Generation\n",
        "n = 3  # Trigrams\n",
        "\n",
        "# Pad the sequences\n",
        "padded_corpus = [list(pad_both_ends(sentence, n=n)) for sentence in tokenized_corpus]\n",
        "\n",
        "# Flatten the corpus into n-grams\n",
        "ngrams_list = [ngrams(sentence, n) for sentence in padded_corpus]\n",
        "flattened_ngrams = [ngram for sublist in ngrams_list for ngram in sublist]\n"
      ],
      "metadata": {
        "id": "AlFRFpo9AKHS"
      },
      "execution_count": null,
      "outputs": []
    },
    {
      "cell_type": "markdown",
      "source": [
        "## Step 3: Vocabulary Creation\n"
      ],
      "metadata": {
        "id": "_RWgUtvOAQV7"
      }
    },
    {
      "cell_type": "code",
      "source": [
        "# Step 3: Vocabulary Creation\n",
        "vocab = set(flattened_ngrams)"
      ],
      "metadata": {
        "id": "miOFhTTpAUIc"
      },
      "execution_count": null,
      "outputs": []
    },
    {
      "cell_type": "markdown",
      "source": [
        "## Step 4: Language Model Construction\n"
      ],
      "metadata": {
        "id": "KpeYLOA8AV6E"
      }
    },
    {
      "cell_type": "code",
      "source": [
        "# Step 4: Language Model Construction\n",
        "model = MLE(n)\n",
        "model.fit(flattened_ngrams)\n"
      ],
      "metadata": {
        "id": "mP6QvuXZAXW9"
      },
      "execution_count": null,
      "outputs": []
    },
    {
      "cell_type": "markdown",
      "source": [
        "## Step 5: Generate Text"
      ],
      "metadata": {
        "id": "lHJsX1t8AY9c"
      }
    },
    {
      "cell_type": "code",
      "source": [
        "\n",
        "# Step 5: Sentence Generation\n",
        "max_length = 10  # Maximum number of words in the generated sentence\n",
        "\n",
        "# Set an initial context\n",
        "context = random.choice(list(vocab))\n",
        "prefix = context[:n-1]\n",
        "\n",
        "# Generate new sentences\n",
        "generated_sentence = prefix\n",
        "while len(generated_sentence) < max_length:\n",
        "    token = model.generate(1, context=context)[-1]\n",
        "    if token == \"</s>\":\n",
        "        break\n",
        "    generated_sentence += \" \" + token\n",
        "    prefix = tuple(generated_sentence.split()[-(n - 1):])\n",
        "    context = prefix + (token,)\n",
        "\n",
        "print(\"Generated Sentence:\", generated_sentence)\n"
      ],
      "metadata": {
        "id": "4lhHlCEk_5Oz"
      },
      "execution_count": null,
      "outputs": []
    }
  ]
}
