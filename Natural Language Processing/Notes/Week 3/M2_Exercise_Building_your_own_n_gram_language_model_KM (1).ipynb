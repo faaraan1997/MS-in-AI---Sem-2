{
  "cells": [
    {
      "cell_type": "markdown",
      "metadata": {
        "id": "view-in-github"
      },
      "source": [
        "<a href=\"https://colab.research.google.com/github/Natural-Language-Processing-YU/Exercises/blob/main/Exercise_Building_your_own_n_gram_language_model.ipynb\" target=\"_parent\"><img src=\"https://colab.research.google.com/assets/colab-badge.svg\" alt=\"Open In Colab\"/></a>"
      ]
    },
    {
      "cell_type": "markdown",
      "metadata": {
        "id": "y3LpbJEc_0-y"
      },
      "source": [
        "#Exercise: Building your own n-gram language model\n",
        "\n",
        "Objective:\n",
        "The objective of this exercise is to give students hands-on experience in creating a language model using n-grams and generating new sentences based on the model. Students will work through the steps of preprocessing the text, generating n-grams, creating a vocabulary, constructing the language model, and generating sentences.\n"
      ]
    },
    {
      "cell_type": "code",
      "execution_count": 1,
      "metadata": {
        "id": "MExRUA8RADAq"
      },
      "outputs": [],
      "source": [
        "import random\n",
        "import nltk\n",
        "from nltk.util import ngrams\n",
        "from nltk.lm.preprocessing import pad_both_ends\n",
        "from nltk.lm.preprocessing import pad_both_ends, padded_everygram_pipeline\n",
        "from nltk.lm import MLE"
      ]
    },
    {
      "cell_type": "code",
      "execution_count": 2,
      "metadata": {
        "colab": {
          "base_uri": "https://localhost:8080/",
          "height": 0
        },
        "id": "Lfsfyq1lX8RK",
        "outputId": "7ff98ac4-3e6b-4d7f-c443-171d9a3c8679"
      },
      "outputs": [
        {
          "name": "stderr",
          "output_type": "stream",
          "text": [
            "[nltk_data] Downloading package punkt to\n",
            "[nltk_data]     C:\\Users\\Dell\\AppData\\Roaming\\nltk_data...\n",
            "[nltk_data]   Package punkt is already up-to-date!\n"
          ]
        },
        {
          "data": {
            "text/plain": [
              "True"
            ]
          },
          "execution_count": 2,
          "metadata": {},
          "output_type": "execute_result"
        }
      ],
      "source": [
        "import nltk\n",
        "\n",
        "# Download the 'punkt' tokenizer models\n",
        "nltk.download('punkt')\n",
        "\n",
        "\n"
      ]
    },
    {
      "cell_type": "markdown",
      "metadata": {
        "id": "I7k5a_z2_6_S"
      },
      "source": [
        "## Step 1. Preprocessing: Provide a small corpus of sentences and tokenize the text using NLTK's word_tokenize function."
      ]
    },
    {
      "cell_type": "code",
      "execution_count": 3,
      "metadata": {
        "id": "jjF1kxp3AGi6"
      },
      "outputs": [],
      "source": [
        "# Step 1: Preprocessing\n",
        "corpus = [\n",
        "    \"I love to eat pizza.\",\n",
        "    \"I love to play soccer.\",\n",
        "    \"I love to read books.\",\n",
        "     \"I love to create algorithms.\",\n",
        "]\n",
        "\n",
        "# Tokenize the text\n",
        "tokenized_corpus = [nltk.word_tokenize(sentence.lower()) for sentence in corpus]"
      ]
    },
    {
      "cell_type": "markdown",
      "metadata": {
        "id": "MHx06FX5AKer"
      },
      "source": [
        "## Step 2: N-gram Generation\n"
      ]
    },
    {
      "cell_type": "code",
      "execution_count": 4,
      "metadata": {
        "id": "AlFRFpo9AKHS"
      },
      "outputs": [],
      "source": [
        "# Step 2: N-gram Generation\n",
        "n = 3  # Trigrams\n",
        "\n",
        "# Pad the sequences\n",
        "padded_corpus = [list(pad_both_ends(sentence, n=n)) for sentence in tokenized_corpus]\n",
        "\n",
        "# Flatten the corpus into n-grams\n",
        "ngrams_list = [ngrams(sentence, n) for sentence in padded_corpus]\n",
        "flattened_ngrams = [ngram for sublist in ngrams_list for ngram in sublist]\n",
        "\n",
        "# Pad the sequences and create n-grams\n",
        "train_data, padded_vocab = padded_everygram_pipeline(n, tokenized_corpus)\n",
        "\n"
      ]
    },
    {
      "cell_type": "markdown",
      "metadata": {
        "id": "_RWgUtvOAQV7"
      },
      "source": [
        "## Step 3: Vocabulary Creation\n"
      ]
    },
    {
      "cell_type": "code",
      "execution_count": 5,
      "metadata": {
        "id": "miOFhTTpAUIc"
      },
      "outputs": [],
      "source": [
        "# Step 3: Vocabulary Creation\n",
        "vocab = set(flattened_ngrams)"
      ]
    },
    {
      "cell_type": "markdown",
      "metadata": {
        "id": "KpeYLOA8AV6E"
      },
      "source": [
        "## Step 4: Language Model Construction\n"
      ]
    },
    {
      "cell_type": "code",
      "execution_count": 6,
      "metadata": {
        "id": "mP6QvuXZAXW9"
      },
      "outputs": [],
      "source": [
        "# Step 4: Language Model Construction\n",
        "model = MLE(n)\n",
        "\n",
        "# Fit the model\n",
        "model.fit(train_data, padded_vocab)\n"
      ]
    },
    {
      "cell_type": "markdown",
      "metadata": {
        "id": "lHJsX1t8AY9c"
      },
      "source": [
        "## Step 5: Generate Text"
      ]
    },
    {
      "cell_type": "code",
      "execution_count": 7,
      "metadata": {
        "colab": {
          "base_uri": "https://localhost:8080/",
          "height": 35
        },
        "id": "4lhHlCEk_5Oz",
        "outputId": "9bd1c9a4-915e-4763-c9b1-cc1124314921"
      },
      "outputs": [
        {
          "data": {
            "text/plain": [
              "'Generated Sentence: > > d > > > > > . >'"
            ]
          },
          "execution_count": 7,
          "metadata": {},
          "output_type": "execute_result"
        }
      ],
      "source": [
        "# Reset the script for sentence generation\n",
        "max_length = 10  # Maximum number of words in the generated sentence\n",
        "context = ('<s>',)  # Starting with the sentence beginning token\n",
        "\n",
        "generated_sentence = []\n",
        "while len(generated_sentence) < max_length:\n",
        "    # Use 'text_seed' instead of 'context' for the 'generate' method\n",
        "    token = model.generate(num_words=1, text_seed=context)[-1]\n",
        "    if token == \"</s>\":\n",
        "        break\n",
        "    generated_sentence.append(token)\n",
        "    # Update the context with the last 'n-1' tokens\n",
        "    context = tuple(generated_sentence[-(n-1):])\n",
        "\n",
        "# Joining the generated tokens to form a sentence\n",
        "generated_sentence = \" \".join(generated_sentence)\n",
        "\n",
        "\"Generated Sentence: \" + generated_sentence\n",
        "\n"
      ]
    },
    {
      "cell_type": "code",
      "execution_count": 8,
      "metadata": {
        "colab": {
          "base_uri": "https://localhost:8080/"
        },
        "id": "tB-7STsMjDmC",
        "outputId": "f7a86f8c-69ba-41f3-ba91-4fad317f569e"
      },
      "outputs": [
        {
          "name": "stdout",
          "output_type": "stream",
          "text": [
            "Generated Sentence: read i love to read books . </s>\n"
          ]
        }
      ],
      "source": [
        "# Step 5: Generate Text\n",
        "\n",
        "def generate_text(model, num_words, random_seed=42):\n",
        "    \"\"\"\n",
        "    Generate text using the n-gram model.\n",
        "\n",
        "    :param model: Trained n-gram language model.\n",
        "    :param num_words: Number of words to generate.\n",
        "    :param random_seed: Seed for the random number generator.\n",
        "    :return: Generated text as a string.\n",
        "    \"\"\"\n",
        "    random.seed(random_seed)\n",
        "    text = [random.choice(list(model.vocab)) for _ in range(n-1)]  # start with random words\n",
        "    for _ in range(num_words):\n",
        "        context = tuple(text[-(n-1):])  # get the last (n-1) elements\n",
        "        next_word = model.generate(text_seed=context)\n",
        "        text.append(next_word)\n",
        "        if next_word == '</s>':  # check for end of sentence\n",
        "            break\n",
        "    return ' '.join(text)\n",
        "\n",
        "# Generate a sentence\n",
        "generated_sentence = generate_text(model, num_words=10)\n",
        "print(\"Generated Sentence: \"+ generated_sentence)\n"
      ]
    }
  ],
  "metadata": {
    "colab": {
      "provenance": []
    },
    "kernelspec": {
      "display_name": "Python 3",
      "name": "python3"
    },
    "language_info": {
      "codemirror_mode": {
        "name": "ipython",
        "version": 3
      },
      "file_extension": ".py",
      "mimetype": "text/x-python",
      "name": "python",
      "nbconvert_exporter": "python",
      "pygments_lexer": "ipython3",
      "version": "3.11.5"
    }
  },
  "nbformat": 4,
  "nbformat_minor": 0
}
