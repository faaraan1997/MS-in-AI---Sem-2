{
  "cells": [
    {
      "cell_type": "markdown",
      "metadata": {
        "id": "4Q05trEvPpQw"
      },
      "source": [
        "# I. Rule-based and Statistical Approaches for Part-of-Speech Tagging\n",
        "\n",
        "Part-of-Speech tagging, also known as POS tagging, is the process of assigning grammatical tags or labels to words in a sentence. The tags represent the syntactic category or part of speech of each word, such as noun, verb, adjective, adverb, etc. POS tagging is an essential step in many Natural Language Processing (NLP) tasks, including parsing, machine translation, and information retrieval.\n",
        "\n",
        "POS tagging can be approached using different techniques, including rule-based approaches, statistical approaches, and hybrid approaches that combine both. In statistical approaches, Hidden Markov Models (HMMs) and Maximum Entropy Markov Models (MEMMs) are commonly used.\n",
        "\n",
        "Implement a rule-based part-of-speech (POS) tagger:\n",
        "* a. Write a set of rules to assign POS tags to words based on their context\n",
        "* b. Apply the rules to a sample text and evaluate the accuracy of the tagger.\n",
        "\n",
        "\n",
        "\n",
        "Implement a statistical POS tagger using a pre-trained model:\n",
        "\n",
        "\n",
        "* a. Train a statistical POS tagger on a labeled corpus using a machine learning algorithm such as Naive Bayes or Maximum Entropy.\n",
        "* b. Apply the trained model to tag a sample text and evaluate its accuracy.\n",
        "\n",
        "\n",
        "\n"
      ]
    },
    {
      "cell_type": "code",
      "execution_count": 2,
      "metadata": {
        "colab": {
          "base_uri": "https://localhost:8080/"
        },
        "id": "lJ2RhiyPSCv6",
        "outputId": "69e9c1a4-bbd6-4620-91ac-6afab6729493"
      },
      "outputs": [],
      "source": [
        "import nltk\n",
        "import re\n",
        "nltk.download('punkt')\n",
        "nltk.download('treebank')\n",
        "nltk.download('averaged_perceptron_tagger')\n",
        "nltk.download('maxent_ne_chunker') #The maxent_ne_chunker contains two pre-trained English named entity chunkers trained on an ACE corpus (perhaps ACE ACE 2004 Multilingual Training Corpus?)"
      ]
    },
    {
      "cell_type": "code",
      "execution_count": 4,
      "metadata": {
        "id": "gXSDBSDaPY12"
      },
      "outputs": [],
      "source": [
        "from nltk import pos_tag, ne_chunk\n",
        "from nltk.tokenize import word_tokenize\n",
        "from nltk.corpus import treebank\n",
        "from nltk.tag import DefaultTagger, UnigramTagger, BigramTagger #important for POS tagging\n",
        "\n",
        "\n",
        "# Part 1: Rule-based and Statistical Approaches for Part-of-Speech Tagging\n",
        "\n",
        "# Rule-based POS Tagger\n",
        "def rule_based_pos_tagger(sentence):\n",
        "    # Define your rules here\n",
        "    rules = [\n",
        "          (re.compile(r'\\bThe\\b'), 'DT'),\n",
        "          (re.compile(r'\\bcat\\b'), 'NN'),\n",
        "          (re.compile(r'\\bis\\b'), 'VB'),\n",
        "          (re.compile(r'\\bsitting\\b'), 'VB'),\n",
        "          (re.compile(r'\\bon\\b'), 'IN'),\n",
        "          (re.compile(r'\\bthe\\b'), 'DT'),\n",
        "          (re.compile(r'\\bmat\\b'), 'NN'),\n",
        "      ]\n",
        "    tagged_sentence = []\n",
        "    words = word_tokenize(sentence)\n",
        "    for word in words:\n",
        "        for pattern, tag in rules:\n",
        "            if pattern.match(word):\n",
        "                tagged_sentence.append((word, tag))\n",
        "                break\n",
        "        else:\n",
        "            tagged_sentence.append((word, 'UNKNOWN'))\n",
        "    return tagged_sentence\n",
        "\n",
        "# Statistical POS Tagger\n",
        "def statistical_pos_tagger(sentence):\n",
        "    # Train your model on a labeled corpus (e.g., treebank)\n",
        "    train_data = treebank.tagged_sents()[:3000]\n",
        "    # Train your statistical model here\n",
        "\n",
        "    # Split data into training and testing sets\n",
        "    train_size = int(len(train_data) * 0.8)\n",
        "    train_set = train_data[:train_size]\n",
        "    test_set = train_data[train_size:]\n",
        "\n",
        "    # Create taggers\n",
        "    default_tagger = DefaultTagger('NN')  # Default tagger assigns 'NN' to all words\n",
        "    unigram_tagger = UnigramTagger(train_set, backoff=default_tagger)  # Unigram tagger using training set\n",
        "    bigram_tagger = BigramTagger(train_set, backoff=unigram_tagger)  # Bigram tagger using training set and fallback to unigram tagger\n",
        "\n",
        "    # Evaluate on test set\n",
        "    accuracy = bigram_tagger.accuracy(test_set)\n",
        "    print(\"Accuracy:\", accuracy)\n",
        "\n",
        "\n",
        "    # Apply the trained model to tag the sentence\n",
        "    tagged_sentence  = bigram_tagger.tag(word_tokenize(sentence))\n",
        "    #tagged_sentence = nltk.pos_tag(words)\n",
        "    #tagged_sentence.append(tagged_sentence)\n",
        "    return tagged_sentence"
      ]
    },
    {
      "cell_type": "code",
      "execution_count": null,
      "metadata": {
        "id": "SQrw3cuYOq_n"
      },
      "outputs": [],
      "source": []
    },
    {
      "cell_type": "code",
      "execution_count": 5,
      "metadata": {
        "colab": {
          "base_uri": "https://localhost:8080/"
        },
        "id": "exUD_vjjR6T7",
        "outputId": "c336a8d4-6ba5-4ed3-cdc3-4d977628ef71"
      },
      "outputs": [
        {
          "name": "stdout",
          "output_type": "stream",
          "text": [
            "Rule-based POS Tags:\n",
            "[('The', 'DT'), ('cat', 'NN'), ('is', 'VB'), ('sitting', 'VB'), ('on', 'IN'), ('the', 'DT'), ('mat', 'NN'), ('.', 'UNKNOWN')]\n",
            "Accuracy: 0.8748033560566335\n",
            "Statistical POS Tags:\n",
            "[('The', 'DT'), ('cat', 'NN'), ('is', 'VBZ'), ('sitting', 'VBG'), ('on', 'IN'), ('the', 'DT'), ('mat', 'NN'), ('.', '.')]\n"
          ]
        }
      ],
      "source": [
        "# Part 1: Rule-based and Statistical Approaches for Part-of-Speech Tagging\n",
        "sample_sentence = \"The cat is sitting on the mat.\"\n",
        "\n",
        "# Rule-based POS Tagging\n",
        "rule_based_tags = rule_based_pos_tagger(sample_sentence)\n",
        "print(\"Rule-based POS Tags:\")\n",
        "print(rule_based_tags)\n",
        "\n",
        "# Statistical POS Tagging\n",
        "statistical_tags = statistical_pos_tagger(sample_sentence)\n",
        "print(\"Statistical POS Tags:\")\n",
        "print(statistical_tags)\n"
      ]
    },
    {
      "cell_type": "markdown",
      "metadata": {
        "id": "zoASyaNWdgYW"
      },
      "source": [
        "Additionally, NLTK has a built in function call ```pos_tags``\n",
        "See example below"
      ]
    },
    {
      "cell_type": "code",
      "execution_count": 6,
      "metadata": {
        "colab": {
          "base_uri": "https://localhost:8080/"
        },
        "id": "AYSqHPf4dpMS",
        "outputId": "fbdb8888-6a5d-499e-c626-0bc2e68ede53"
      },
      "outputs": [
        {
          "name": "stdout",
          "output_type": "stream",
          "text": [
            "[('The', 'DT'), ('cat', 'NN'), ('is', 'VBZ'), ('sitting', 'VBG'), ('on', 'IN'), ('the', 'DT'), ('mat', 'NN'), ('.', '.')]\n"
          ]
        }
      ],
      "source": [
        "sample_sentence = \"The cat is sitting on the mat.\"\n",
        "\n",
        "tagged_sentence = nltk.pos_tag(word_tokenize(sample_sentence))\n",
        "print(tagged_sentence)"
      ]
    },
    {
      "cell_type": "markdown",
      "metadata": {
        "id": "S9jgjuE4euOi"
      },
      "source": [
        " ### Exercise\n",
        "\n",
        "Update the Rule-based tagger with patterns using regex. An example could be:\n",
        "\n",
        "\n",
        "\n",
        "      ```  (r'\\b\\w+s\\b|\\b\\w+es\\b', 'NN'),     # Nouns ending ```\n",
        "\n",
        "  From here proivde an updated rule-based tagger and statistical based tagger that can apply a part of speech tag for the following complex sentence:\n",
        "\n",
        "  ```\n",
        "  sentence = \"The quick brown fox jumps over the lazy dog while it's raining heavily.\"\n",
        "\n",
        "  ```"
      ]
    },
    {
      "cell_type": "code",
      "execution_count": 8,
      "metadata": {
        "colab": {
          "base_uri": "https://localhost:8080/",
          "height": 36
        },
        "id": "zsFIKF3QetPp",
        "outputId": "30dce9d8-9763-4ad0-eaed-fe5b23912b00"
      },
      "outputs": [],
      "source": [
        "import nltk\n",
        "import re\n",
        "from nltk.tokenize import word_tokenize\n",
        "from nltk.corpus import treebank\n",
        "from nltk.tag import DefaultTagger, UnigramTagger, BigramTagger\n",
        "\n",
        "# Rule-based POS Tagger\n",
        "def rule_based_pos_tagger(sentence):\n",
        "    # Define your rules here\n",
        "    rules = [\n",
        "        (re.compile(r'\\bThe\\b'), 'DT'),\n",
        "        (re.compile(r'\\bquick\\b'), 'JJ'),\n",
        "        (re.compile(r'\\bbrown\\b'), 'JJ'),\n",
        "        (re.compile(r'\\bfox\\b'), 'NN'),\n",
        "        (re.compile(r'\\bjumps\\b'), 'VBZ'),\n",
        "        (re.compile(r'\\bover\\b'), 'IN'),\n",
        "        (re.compile(r'\\bthe\\b'), 'DT'),\n",
        "        (re.compile(r'\\blazy\\b'), 'JJ'),\n",
        "        (re.compile(r'\\bdog\\b'), 'NN'),\n",
        "        (re.compile(r'\\bwhile\\b'), 'IN'),\n",
        "        (re.compile(r'\\bit\\'s\\b'), 'PRP$'),\n",
        "        (re.compile(r'\\braining\\b'), 'VBG'),\n",
        "        (re.compile(r'\\bheavily\\b'), 'RB'),\n",
        "    ]\n",
        "    tagged_sentence = []\n",
        "    words = word_tokenize(sentence)\n",
        "    for word in words:\n",
        "        for pattern, tag in rules:\n",
        "            if pattern.match(word):\n",
        "                tagged_sentence.append((word, tag))\n",
        "                break\n",
        "        else:\n",
        "            tagged_sentence.append((word, 'UNKNOWN'))\n",
        "    return tagged_sentence\n",
        "\n",
        "# Statistical POS Tagger\n",
        "def statistical_pos_tagger(sentence):\n",
        "    # Train your model on a labeled corpus (e.g., treebank)\n",
        "    train_data = treebank.tagged_sents()[:3000]\n",
        "\n",
        "    # Split data into training and testing sets\n",
        "    train_size = int(len(train_data) * 0.8)\n",
        "    train_set = train_data[:train_size]\n",
        "    test_set = train_data[train_size:]\n",
        "\n",
        "    # Create taggers\n",
        "    default_tagger = DefaultTagger('NN')  # Default tagger assigns 'NN' to all words\n",
        "    unigram_tagger = UnigramTagger(train_set, backoff=default_tagger)  # Unigram tagger using training set\n",
        "    bigram_tagger = BigramTagger(train_set, backoff=unigram_tagger)  # Bigram tagger using training set and fallback to unigram tagger\n",
        "\n",
        "    # Evaluate on test set\n",
        "    accuracy = bigram_tagger.evaluate(test_set)\n",
        "    print(\"Accuracy:\", accuracy)\n",
        "\n",
        "    # Apply the trained model to tag the sentence\n",
        "    tagged_sentence = bigram_tagger.tag(word_tokenize(sentence))\n",
        "    return tagged_sentence\n"
      ]
    },
    {
      "cell_type": "code",
      "execution_count": 9,
      "metadata": {
        "colab": {
          "base_uri": "https://localhost:8080/",
          "height": 36
        },
        "id": "v3qmcVF6hxrR",
        "outputId": "ec285c70-cc53-4c5b-ad82-ee25db331871"
      },
      "outputs": [
        {
          "name": "stdout",
          "output_type": "stream",
          "text": [
            "Rule-based POS Tags:\n",
            "[('The', 'DT'), ('quick', 'JJ'), ('brown', 'JJ'), ('fox', 'NN'), ('jumps', 'VBZ'), ('over', 'IN'), ('the', 'DT'), ('lazy', 'JJ'), ('dog', 'NN'), ('while', 'IN'), ('it', 'UNKNOWN'), (\"'s\", 'UNKNOWN'), ('raining', 'VBG'), ('heavily', 'RB'), ('.', 'UNKNOWN')]\n"
          ]
        },
        {
          "name": "stderr",
          "output_type": "stream",
          "text": [
            "C:\\Users\\Dell\\AppData\\Local\\Temp\\ipykernel_23732\\3306252682.py:52: DeprecationWarning: \n",
            "  Function evaluate() has been deprecated.  Use accuracy(gold)\n",
            "  instead.\n",
            "  accuracy = bigram_tagger.evaluate(test_set)\n"
          ]
        },
        {
          "name": "stdout",
          "output_type": "stream",
          "text": [
            "Accuracy: 0.8748033560566335\n",
            "Statistical POS Tags:\n",
            "[('The', 'DT'), ('quick', 'JJ'), ('brown', 'NN'), ('fox', 'NN'), ('jumps', 'NN'), ('over', 'IN'), ('the', 'DT'), ('lazy', 'NN'), ('dog', 'NN'), ('while', 'IN'), ('it', 'PRP'), (\"'s\", 'VBZ'), ('raining', 'NN'), ('heavily', 'RB'), ('.', '.')]\n"
          ]
        }
      ],
      "source": [
        "#show printed output below\n",
        "sentence = \"The quick brown fox jumps over the lazy dog while it's raining heavily.\"\n",
        "\"\"\"your POS tagging function\"\"\"\n",
        "\n",
        "# Rule-based POS Tagging\n",
        "rule_based_tags = rule_based_pos_tagger(sentence)\n",
        "print(\"Rule-based POS Tags:\")\n",
        "print(rule_based_tags)\n",
        "\n",
        "# Statistical POS Tagging\n",
        "statistical_tags = statistical_pos_tagger(sentence)\n",
        "print(\"Statistical POS Tags:\")\n",
        "print(statistical_tags)\n"
      ]
    }
  ],
  "metadata": {
    "colab": {
      "provenance": []
    },
    "kernelspec": {
      "display_name": "Python 3",
      "name": "python3"
    },
    "language_info": {
      "codemirror_mode": {
        "name": "ipython",
        "version": 3
      },
      "file_extension": ".py",
      "mimetype": "text/x-python",
      "name": "python",
      "nbconvert_exporter": "python",
      "pygments_lexer": "ipython3",
      "version": "3.11.5"
    }
  },
  "nbformat": 4,
  "nbformat_minor": 0
}
