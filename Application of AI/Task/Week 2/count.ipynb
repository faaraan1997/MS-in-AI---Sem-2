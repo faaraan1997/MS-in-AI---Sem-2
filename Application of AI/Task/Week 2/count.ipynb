{
 "cells": [
  {
   "cell_type": "code",
   "execution_count": 1,
   "metadata": {},
   "outputs": [
    {
     "name": "stdout",
     "output_type": "stream",
     "text": [
      "Max string length: 2318\n",
      "Mean string length: 507.3114754098361\n"
     ]
    }
   ],
   "source": [
    "import json\n",
    "\n",
    "# Read JSON data from file\n",
    "with open('transcript.json', 'r') as file:\n",
    "    json_data = json.load(file)\n",
    "\n",
    "# Extract transcripts and calculate lengths\n",
    "transcripts = [entry['transcript'] for entry in json_data]\n",
    "transcript_lengths = [len(transcript) for transcript in transcripts]\n",
    "\n",
    "# Find max and mean string lengths\n",
    "max_length = max(transcript_lengths)\n",
    "mean_length = sum(transcript_lengths) / len(transcript_lengths)\n",
    "\n",
    "print(\"Max string length:\", max_length)\n",
    "print(\"Mean string length:\", mean_length)\n"
   ]
  }
 ],
 "metadata": {
  "kernelspec": {
   "display_name": "llava",
   "language": "python",
   "name": "python3"
  },
  "language_info": {
   "codemirror_mode": {
    "name": "ipython",
    "version": 3
   },
   "file_extension": ".py",
   "mimetype": "text/x-python",
   "name": "python",
   "nbconvert_exporter": "python",
   "pygments_lexer": "ipython3",
   "version": "3.10.14"
  }
 },
 "nbformat": 4,
 "nbformat_minor": 2
}
