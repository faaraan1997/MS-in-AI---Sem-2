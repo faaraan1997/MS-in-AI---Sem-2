{
 "cells": [
  {
   "cell_type": "code",
   "execution_count": 5,
   "metadata": {},
   "outputs": [
    {
     "name": "stdout",
     "output_type": "stream",
     "text": [
      "Statistics for 'instruction' lengths:\n",
      "Mean length: 75.44 characters\n",
      "Standard deviation: 24.15 characters\n",
      "Maximum length: 460 characters\n",
      "\n",
      "Statistics for 'response' lengths:\n",
      "Mean length: 249.08 characters\n",
      "Standard deviation: 156.57 characters\n",
      "Maximum length: 2615 characters\n"
     ]
    }
   ],
   "source": [
    "import json\n",
    "import numpy as np\n",
    "\n",
    "# Load JSON data from file\n",
    "with open(r'Final data All Week.json', 'r') as file:\n",
    "    data = json.load(file)\n",
    "\n",
    "# Extract lengths of 'instruction' and 'response' texts\n",
    "instruction_lengths = [len(item['instruction']) for item in data]\n",
    "response_lengths = [len(item['response']) for item in data]\n",
    "\n",
    "# Calculate statistics for 'instruction' lengths\n",
    "instruction_mean_length = np.mean(instruction_lengths)\n",
    "instruction_std_deviation = np.std(instruction_lengths)\n",
    "instruction_max_length = max(instruction_lengths)\n",
    "\n",
    "# Calculate statistics for 'response' lengths\n",
    "response_mean_length = np.mean(response_lengths)\n",
    "response_std_deviation = np.std(response_lengths)\n",
    "response_max_length = max(response_lengths)\n",
    "\n",
    "# Print results for 'instruction'\n",
    "print(\"Statistics for 'instruction' lengths:\")\n",
    "print(f\"Mean length: {instruction_mean_length:.2f} characters\")\n",
    "print(f\"Standard deviation: {instruction_std_deviation:.2f} characters\")\n",
    "print(f\"Maximum length: {instruction_max_length} characters\")\n",
    "\n",
    "# Print results for 'response'\n",
    "print(\"\\nStatistics for 'response' lengths:\")\n",
    "print(f\"Mean length: {response_mean_length:.2f} characters\")\n",
    "print(f\"Standard deviation: {response_std_deviation:.2f} characters\")\n",
    "print(f\"Maximum length: {response_max_length} characters\")\n"
   ]
  },
  {
   "cell_type": "code",
   "execution_count": 3,
   "metadata": {},
   "outputs": [
    {
     "ename": "FileNotFoundError",
     "evalue": "[Errno 2] No such file or directory: 'Final data All Week Q_A pairs'",
     "output_type": "error",
     "traceback": [
      "\u001b[0;31m---------------------------------------------------------------------------\u001b[0m",
      "\u001b[0;31mFileNotFoundError\u001b[0m                         Traceback (most recent call last)",
      "Cell \u001b[0;32mIn[3], line 5\u001b[0m\n\u001b[1;32m      2\u001b[0m \u001b[38;5;28;01mimport\u001b[39;00m \u001b[38;5;21;01mmatplotlib\u001b[39;00m\u001b[38;5;21;01m.\u001b[39;00m\u001b[38;5;21;01mpyplot\u001b[39;00m \u001b[38;5;28;01mas\u001b[39;00m \u001b[38;5;21;01mplt\u001b[39;00m\n\u001b[1;32m      4\u001b[0m \u001b[38;5;66;03m# Load JSON data from file\u001b[39;00m\n\u001b[0;32m----> 5\u001b[0m \u001b[38;5;28;01mwith\u001b[39;00m \u001b[38;5;28;43mopen\u001b[39;49m\u001b[43m(\u001b[49m\u001b[38;5;124;43mr\u001b[39;49m\u001b[38;5;124;43m'\u001b[39;49m\u001b[38;5;124;43mFinal data All Week Q_A pairs\u001b[39;49m\u001b[38;5;124;43m'\u001b[39;49m\u001b[43m,\u001b[49m\u001b[43m \u001b[49m\u001b[38;5;124;43m'\u001b[39;49m\u001b[38;5;124;43mr\u001b[39;49m\u001b[38;5;124;43m'\u001b[39;49m\u001b[43m)\u001b[49m \u001b[38;5;28;01mas\u001b[39;00m file:\n\u001b[1;32m      6\u001b[0m     data \u001b[38;5;241m=\u001b[39m json\u001b[38;5;241m.\u001b[39mload(file)\n\u001b[1;32m      8\u001b[0m \u001b[38;5;66;03m# Count occurrences of each category\u001b[39;00m\n",
      "File \u001b[0;32m~/anaconda3/envs/llava/lib/python3.10/site-packages/IPython/core/interactiveshell.py:324\u001b[0m, in \u001b[0;36m_modified_open\u001b[0;34m(file, *args, **kwargs)\u001b[0m\n\u001b[1;32m    317\u001b[0m \u001b[38;5;28;01mif\u001b[39;00m file \u001b[38;5;129;01min\u001b[39;00m {\u001b[38;5;241m0\u001b[39m, \u001b[38;5;241m1\u001b[39m, \u001b[38;5;241m2\u001b[39m}:\n\u001b[1;32m    318\u001b[0m     \u001b[38;5;28;01mraise\u001b[39;00m \u001b[38;5;167;01mValueError\u001b[39;00m(\n\u001b[1;32m    319\u001b[0m         \u001b[38;5;124mf\u001b[39m\u001b[38;5;124m\"\u001b[39m\u001b[38;5;124mIPython won\u001b[39m\u001b[38;5;124m'\u001b[39m\u001b[38;5;124mt let you open fd=\u001b[39m\u001b[38;5;132;01m{\u001b[39;00mfile\u001b[38;5;132;01m}\u001b[39;00m\u001b[38;5;124m by default \u001b[39m\u001b[38;5;124m\"\u001b[39m\n\u001b[1;32m    320\u001b[0m         \u001b[38;5;124m\"\u001b[39m\u001b[38;5;124mas it is likely to crash IPython. If you know what you are doing, \u001b[39m\u001b[38;5;124m\"\u001b[39m\n\u001b[1;32m    321\u001b[0m         \u001b[38;5;124m\"\u001b[39m\u001b[38;5;124myou can use builtins\u001b[39m\u001b[38;5;124m'\u001b[39m\u001b[38;5;124m open.\u001b[39m\u001b[38;5;124m\"\u001b[39m\n\u001b[1;32m    322\u001b[0m     )\n\u001b[0;32m--> 324\u001b[0m \u001b[38;5;28;01mreturn\u001b[39;00m \u001b[43mio_open\u001b[49m\u001b[43m(\u001b[49m\u001b[43mfile\u001b[49m\u001b[43m,\u001b[49m\u001b[43m \u001b[49m\u001b[38;5;241;43m*\u001b[39;49m\u001b[43margs\u001b[49m\u001b[43m,\u001b[49m\u001b[43m \u001b[49m\u001b[38;5;241;43m*\u001b[39;49m\u001b[38;5;241;43m*\u001b[39;49m\u001b[43mkwargs\u001b[49m\u001b[43m)\u001b[49m\n",
      "\u001b[0;31mFileNotFoundError\u001b[0m: [Errno 2] No such file or directory: 'Final data All Week Q_A pairs'"
     ]
    }
   ],
   "source": [
    "import json\n",
    "import matplotlib.pyplot as plt\n",
    "\n",
    "# Load JSON data from file\n",
    "with open(r'Final data All Week Q_A pairs', 'r') as file:\n",
    "    data = json.load(file)\n",
    "\n",
    "# Count occurrences of each category\n",
    "category_counts = {}\n",
    "for item in data:\n",
    "    try:\n",
    "        category = item['category']\n",
    "        category_counts[category] = category_counts.get(category, 0) + 1\n",
    "    except KeyError:\n",
    "        # If 'category' key doesn't exist in the item, skip it\n",
    "        pass\n",
    "\n",
    "print(\"Category Counts:\")\n",
    "for category, count in category_counts.items():\n",
    "    print(f\"{category}: {count}\")\n",
    "\n",
    "# Sort categories by count in descending order\n",
    "sorted_categories = sorted(category_counts.items(), key=lambda x: x[1], reverse=True)[0:11]\n",
    "sorted_categories_labels = [x[0] for x in sorted_categories]\n",
    "sorted_categories_counts = [x[1] for x in sorted_categories]\n",
    "\n",
    "# Create a bar chart\n",
    "plt.figure(figsize=(10, 6))\n",
    "plt.bar(sorted_categories_labels, sorted_categories_counts)\n",
    "plt.xlabel('Category')\n",
    "plt.ylabel('Count')\n",
    "plt.title('Count of Each Category')\n",
    "plt.xticks(rotation=45)\n",
    "plt.tight_layout()\n",
    "plt.show()\n"
   ]
  }
 ],
 "metadata": {
  "kernelspec": {
   "display_name": "llava",
   "language": "python",
   "name": "python3"
  },
  "language_info": {
   "codemirror_mode": {
    "name": "ipython",
    "version": 3
   },
   "file_extension": ".py",
   "mimetype": "text/x-python",
   "name": "python",
   "nbconvert_exporter": "python",
   "pygments_lexer": "ipython3",
   "version": "3.10.14"
  }
 },
 "nbformat": 4,
 "nbformat_minor": 2
}
