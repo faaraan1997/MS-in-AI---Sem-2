{
 "cells": [
  {
   "cell_type": "markdown",
   "metadata": {},
   "source": [
    "# Week 3"
   ]
  },
  {
   "cell_type": "markdown",
   "metadata": {},
   "source": [
    "##### Transcript Length"
   ]
  },
  {
   "cell_type": "code",
   "execution_count": 5,
   "metadata": {},
   "outputs": [
    {
     "name": "stdout",
     "output_type": "stream",
     "text": [
      "Mean transcript length: 319.50 characters\n",
      "Standard deviation of transcript length: 385.23 characters\n",
      "Maximum transcript length: 2164 characters\n"
     ]
    }
   ],
   "source": [
    "import json\n",
    "import numpy as np\n",
    "\n",
    "# Load JSON data from file\n",
    "with open(r'Week_3/transcript.json', 'r') as file:\n",
    "    data = json.load(file)\n",
    "\n",
    "# Extract transcript lengths\n",
    "transcript_lengths = [len(item['transcript']) for item in data]\n",
    "\n",
    "# Calculate statistics\n",
    "mean_length = np.mean(transcript_lengths)\n",
    "std_deviation = np.std(transcript_lengths)\n",
    "max_length = max(transcript_lengths)\n",
    "\n",
    "# Print results\n",
    "print(f\"Mean transcript length: {mean_length:.2f} characters\")\n",
    "print(f\"Standard deviation of transcript length: {std_deviation:.2f} characters\")\n",
    "print(f\"Maximum transcript length: {max_length} characters\")\n"
   ]
  },
  {
   "cell_type": "markdown",
   "metadata": {},
   "source": [
    "##### Q&A Length"
   ]
  },
  {
   "cell_type": "code",
   "execution_count": 15,
   "metadata": {},
   "outputs": [
    {
     "name": "stdout",
     "output_type": "stream",
     "text": [
      "Statistics for 'instruction' lengths:\n",
      "Mean length: 67.18 characters\n",
      "Standard deviation: 18.76 characters\n",
      "Maximum length: 152 characters\n",
      "\n",
      "Statistics for 'response' lengths:\n",
      "Mean length: 120.05 characters\n",
      "Standard deviation: 48.48 characters\n",
      "Maximum length: 353 characters\n"
     ]
    }
   ],
   "source": [
    "import json\n",
    "import numpy as np\n",
    "\n",
    "# Load JSON data from file\n",
    "with open(r'Week_3/QNA_week_3.json', 'r') as file:\n",
    "    data = json.load(file)\n",
    "\n",
    "# Extract lengths of 'instruction' and 'response' texts\n",
    "instruction_lengths = [len(item['instruction']) for item in data]\n",
    "response_lengths = [len(item['response']) for item in data]\n",
    "\n",
    "# Calculate statistics for 'instruction' lengths\n",
    "instruction_mean_length = np.mean(instruction_lengths)\n",
    "instruction_std_deviation = np.std(instruction_lengths)\n",
    "instruction_max_length = max(instruction_lengths)\n",
    "\n",
    "# Calculate statistics for 'response' lengths\n",
    "response_mean_length = np.mean(response_lengths)\n",
    "response_std_deviation = np.std(response_lengths)\n",
    "response_max_length = max(response_lengths)\n",
    "\n",
    "# Print results for 'instruction'\n",
    "print(\"Statistics for 'instruction' lengths:\")\n",
    "print(f\"Mean length: {instruction_mean_length:.2f} characters\")\n",
    "print(f\"Standard deviation: {instruction_std_deviation:.2f} characters\")\n",
    "print(f\"Maximum length: {instruction_max_length} characters\")\n",
    "\n",
    "# Print results for 'response'\n",
    "print(\"\\nStatistics for 'response' lengths:\")\n",
    "print(f\"Mean length: {response_mean_length:.2f} characters\")\n",
    "print(f\"Standard deviation: {response_std_deviation:.2f} characters\")\n",
    "print(f\"Maximum length: {response_max_length} characters\")\n"
   ]
  },
  {
   "cell_type": "markdown",
   "metadata": {},
   "source": [
    "# Week 4"
   ]
  },
  {
   "cell_type": "markdown",
   "metadata": {},
   "source": [
    "##### Transcript Length"
   ]
  },
  {
   "cell_type": "code",
   "execution_count": 4,
   "metadata": {},
   "outputs": [
    {
     "name": "stdout",
     "output_type": "stream",
     "text": [
      "Mean transcript length: 346.38 characters\n",
      "Standard deviation of transcript length: 288.15 characters\n",
      "Maximum transcript length: 1312 characters\n"
     ]
    }
   ],
   "source": [
    "import json\n",
    "import numpy as np\n",
    "\n",
    "# Load JSON data from file\n",
    "with open(r'Week_4/transcript.json', 'r') as file:\n",
    "    data = json.load(file)\n",
    "\n",
    "# Extract transcript lengths\n",
    "transcript_lengths = [len(item['transcript']) for item in data]\n",
    "\n",
    "# Calculate statistics\n",
    "mean_length = np.mean(transcript_lengths)\n",
    "std_deviation = np.std(transcript_lengths)\n",
    "max_length = max(transcript_lengths)\n",
    "\n",
    "# Print results\n",
    "print(f\"Mean transcript length: {mean_length:.2f} characters\")\n",
    "print(f\"Standard deviation of transcript length: {std_deviation:.2f} characters\")\n",
    "print(f\"Maximum transcript length: {max_length} characters\")\n"
   ]
  },
  {
   "cell_type": "markdown",
   "metadata": {},
   "source": [
    "##### Q&A Length"
   ]
  },
  {
   "cell_type": "code",
   "execution_count": 20,
   "metadata": {},
   "outputs": [
    {
     "name": "stdout",
     "output_type": "stream",
     "text": [
      "Statistics for 'instruction' lengths:\n",
      "Mean length: 79.07 characters\n",
      "Standard deviation: 19.31 characters\n",
      "Maximum length: 160 characters\n",
      "\n",
      "Statistics for 'response' lengths:\n",
      "Mean length: 233.59 characters\n",
      "Standard deviation: 126.41 characters\n",
      "Maximum length: 921 characters\n"
     ]
    }
   ],
   "source": [
    "import json\n",
    "import numpy as np\n",
    "\n",
    "# Load JSON data from file\n",
    "with open(r'Week_4/QNA_week_4.json', 'r') as file:\n",
    "    data = json.load(file)\n",
    "\n",
    "# Extract lengths of 'instruction' and 'response' texts\n",
    "instruction_lengths = [len(item['instruction']) for item in data]\n",
    "response_lengths = [len(item['response']) for item in data]\n",
    "\n",
    "# Calculate statistics for 'instruction' lengths\n",
    "instruction_mean_length = np.mean(instruction_lengths)\n",
    "instruction_std_deviation = np.std(instruction_lengths)\n",
    "instruction_max_length = max(instruction_lengths)\n",
    "\n",
    "# Calculate statistics for 'response' lengths\n",
    "response_mean_length = np.mean(response_lengths)\n",
    "response_std_deviation = np.std(response_lengths)\n",
    "response_max_length = max(response_lengths)\n",
    "\n",
    "# Print results for 'instruction'\n",
    "print(\"Statistics for 'instruction' lengths:\")\n",
    "print(f\"Mean length: {instruction_mean_length:.2f} characters\")\n",
    "print(f\"Standard deviation: {instruction_std_deviation:.2f} characters\")\n",
    "print(f\"Maximum length: {instruction_max_length} characters\")\n",
    "\n",
    "# Print results for 'response'\n",
    "print(\"\\nStatistics for 'response' lengths:\")\n",
    "print(f\"Mean length: {response_mean_length:.2f} characters\")\n",
    "print(f\"Standard deviation: {response_std_deviation:.2f} characters\")\n",
    "print(f\"Maximum length: {response_max_length} characters\")\n"
   ]
  },
  {
   "cell_type": "code",
   "execution_count": null,
   "metadata": {},
   "outputs": [],
   "source": []
  }
 ],
 "metadata": {
  "kernelspec": {
   "display_name": "base",
   "language": "python",
   "name": "python3"
  },
  "language_info": {
   "codemirror_mode": {
    "name": "ipython",
    "version": 3
   },
   "file_extension": ".py",
   "mimetype": "text/x-python",
   "name": "python",
   "nbconvert_exporter": "python",
   "pygments_lexer": "ipython3",
   "version": "3.11.7"
  }
 },
 "nbformat": 4,
 "nbformat_minor": 2
}
