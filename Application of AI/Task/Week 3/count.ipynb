{
 "cells": [
  {
   "cell_type": "code",
   "execution_count": 1,
   "metadata": {},
   "outputs": [
    {
     "name": "stdout",
     "output_type": "stream",
     "text": [
      "Max string length: 2265\n",
      "Mean string length: 631.1842105263158\n"
     ]
    }
   ],
   "source": [
    "import json\n",
    "\n",
    "# Read JSON data from file\n",
    "with open('transcript.json', 'r') as file:\n",
    "    json_data = json.load(file)\n",
    "\n",
    "# Extract transcripts and calculate lengths\n",
    "transcripts = [entry['transcript'] for entry in json_data]\n",
    "transcript_lengths = [len(transcript) for transcript in transcripts]\n",
    "\n",
    "# Find max and mean string lengths\n",
    "max_length = max(transcript_lengths)\n",
    "mean_length = sum(transcript_lengths) / len(transcript_lengths)\n",
    "\n",
    "print(\"Max string length:\", max_length)\n",
    "print(\"Mean string length:\", mean_length)\n"
   ]
  },
  {
   "cell_type": "code",
   "execution_count": 4,
   "metadata": {},
   "outputs": [
    {
     "name": "stdout",
     "output_type": "stream",
     "text": [
      "Question:\n",
      "Max string length: 126\n",
      "Mean string length: 62.06991869918699\n",
      "\n",
      "Answer:\n",
      "Max string length: 2265\n",
      "Mean string length: 349.04227642276425\n"
     ]
    }
   ],
   "source": [
    "import json\n",
    "\n",
    "# Read JSON data from file\n",
    "with open('Final weeks QnA.json', 'r') as file:\n",
    "    json_data = json.load(file)\n",
    "\n",
    "# Calculate lengths of instructions and responses\n",
    "instruction_lengths = [len(entry['instruction']) for entry in json_data]\n",
    "response_lengths = [len(entry['response']) for entry in json_data]\n",
    "\n",
    "# Find max and mean string lengths for instructions and responses\n",
    "max_instruction_length = max(instruction_lengths)\n",
    "mean_instruction_length = sum(instruction_lengths) / len(instruction_lengths)\n",
    "max_response_length = max(response_lengths)\n",
    "mean_response_length = sum(response_lengths) / len(response_lengths)\n",
    "\n",
    "print(\"Question:\")\n",
    "print(\"Max string length:\", max_instruction_length)\n",
    "print(\"Mean string length:\", mean_instruction_length)\n",
    "print(\"\\nAnswer:\")\n",
    "print(\"Max string length:\", max_response_length)\n",
    "print(\"Mean string length:\", mean_response_length)\n"
   ]
  },
  {
   "cell_type": "code",
   "execution_count": 6,
   "metadata": {},
   "outputs": [
    {
     "name": "stdout",
     "output_type": "stream",
     "text": [
      "week_4\n",
      "Question:\n",
      "Max string length: 114\n",
      "Mean string length: 66.47313854853911\n",
      "\n",
      "Answer:\n",
      "Max string length: 952\n",
      "Mean string length: 221.55325164938736\n"
     ]
    }
   ],
   "source": [
    "import json\n",
    "\n",
    "# Read JSON data from file\n",
    "with open('Final Week Part 2.json', 'r') as file:\n",
    "    json_data = json.load(file)\n",
    "\n",
    "# Calculate lengths of instructions and responses\n",
    "instruction_lengths = [len(entry['instruction']) for entry in json_data]\n",
    "response_lengths = [len(entry['response']) for entry in json_data]\n",
    "\n",
    "# Find max and mean string lengths for instructions and responses\n",
    "max_instruction_length = max(instruction_lengths)\n",
    "mean_instruction_length = sum(instruction_lengths) / len(instruction_lengths)\n",
    "max_response_length = max(response_lengths)\n",
    "mean_response_length = sum(response_lengths) / len(response_lengths)\n",
    "print(\"week_4\")\n",
    "print(\"Question:\")\n",
    "print(\"Max string length:\", max_instruction_length)\n",
    "print(\"Mean string length:\", mean_instruction_length)\n",
    "print(\"\\nAnswer:\")\n",
    "print(\"Max string length:\", max_response_length)\n",
    "print(\"Mean string length:\", mean_response_length)\n"
   ]
  }
 ],
 "metadata": {
  "kernelspec": {
   "display_name": "llava",
   "language": "python",
   "name": "python3"
  },
  "language_info": {
   "codemirror_mode": {
    "name": "ipython",
    "version": 3
   },
   "file_extension": ".py",
   "mimetype": "text/x-python",
   "name": "python",
   "nbconvert_exporter": "python",
   "pygments_lexer": "ipython3",
   "version": "3.10.14"
  }
 },
 "nbformat": 4,
 "nbformat_minor": 2
}
