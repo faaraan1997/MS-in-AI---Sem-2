{
 "cells": [
  {
   "cell_type": "code",
   "execution_count": 4,
   "metadata": {},
   "outputs": [],
   "source": [
    "import json\n",
    "\n",
    "# Load the JSON data\n",
    "with open('Final_weeks_QnA.json', 'r') as f:\n",
    "    data = json.load(f)\n",
    "\n",
    "# Define the output data structure\n",
    "result = []\n",
    "\n",
    "# Iterate through each item in the input JSON\n",
    "for i, item in enumerate(data, start=1):\n",
    "    # Generate the ID and image path\n",
    "    # id_ = f\"week_{item['week']:02d}_page_{item['page']:03d}\"\n",
    "    # image = f\"week_{item['week']:02d}/week_{item['week']:02d}_page_{item['page']:03d}.png\"\n",
    "    \n",
    "    if item['page'] < 10:\n",
    "        image = f'week_03/week_03_page_00{item[\"page\"]}.png'\n",
    "        id_ = f'week_03_page_00{item[\"page\"]}.png'\n",
    "    elif item['page'] > 100:\n",
    "        image = f'week_03/week_03_page_{item[\"page\"]}.png'\n",
    "        id_ = f'week_03_page_{item[\"page\"]}.png'\n",
    "\n",
    "    else:\n",
    "        image = f'week_03/week_03_page_0{item[\"page\"]}.png'\n",
    "        id_ = f'week_03_page_0{item[\"page\"]}.png'\n",
    "\n",
    "\n",
    "\n",
    "    # Construct the conversation\n",
    "    conversation = [\n",
    "        {\n",
    "            \"from\": \"human\",\n",
    "            \"value\": f\"{item['instruction']}\\n<image>\"\n",
    "        },\n",
    "        {\n",
    "            \"from\": \"gpt\",\n",
    "            \"value\": f\"{item['response']}\\n<image>\"\n",
    "        }\n",
    "    ]\n",
    "    \n",
    "    # Append the conversation to the result\n",
    "    result.append({\"id\": id_, \"image\": image, \"conversations\": conversation})\n",
    "\n",
    "# Write the result to a new JSON file\n",
    "with open('result_week3_data_llava.json', 'w') as f:\n",
    "    json.dump(result, f, indent=2)\n"
   ]
  }
 ],
 "metadata": {
  "kernelspec": {
   "display_name": "base",
   "language": "python",
   "name": "python3"
  },
  "language_info": {
   "codemirror_mode": {
    "name": "ipython",
    "version": 3
   },
   "file_extension": ".py",
   "mimetype": "text/x-python",
   "name": "python",
   "nbconvert_exporter": "python",
   "pygments_lexer": "ipython3",
   "version": "3.10.13"
  }
 },
 "nbformat": 4,
 "nbformat_minor": 2
}
